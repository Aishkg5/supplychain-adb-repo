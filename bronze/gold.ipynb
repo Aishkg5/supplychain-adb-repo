{
 "cells": [
  {
   "cell_type": "code",
   "execution_count": 0,
   "metadata": {
    "application/vnd.databricks.v1+cell": {
     "cellMetadata": {
      "byteLimit": 2048000,
      "rowLimit": 10000
     },
     "inputWidgets": {},
     "nuid": "b193d740-bb2f-4e88-9fca-ef2917ac4a11",
     "showTitle": false,
     "tableResultSettingsMap": {},
     "title": ""
    }
   },
   "outputs": [],
   "source": [
    "product_df = spark.read.table(\"supplychain_catalog.silver.product\")\n",
    "supplier_df = spark.read.table(\"supplychain_catalog.silver.supplier\")\n",
    "transportation_df = spark.read.table(\"supplychain_catalog.silver.transportation\")\n",
    "purchase_orders_df = spark.read.table(\"supplychain_catalog.silver.purchase_orders\")"
   ]
  },
  {
   "cell_type": "markdown",
   "metadata": {
    "application/vnd.databricks.v1+cell": {
     "cellMetadata": {},
     "inputWidgets": {},
     "nuid": "ea21068c-f05e-40b6-b7e8-c0f82e1d5a10",
     "showTitle": false,
     "tableResultSettingsMap": {},
     "title": ""
    }
   },
   "source": [
    "#### Advanced analytics:\n",
    "Example 1: Calculate the average number of services provided by suppliers"
   ]
  },
  {
   "cell_type": "code",
   "execution_count": 0,
   "metadata": {
    "application/vnd.databricks.v1+cell": {
     "cellMetadata": {
      "byteLimit": 2048000,
      "rowLimit": 10000
     },
     "inputWidgets": {},
     "nuid": "97cbe666-4320-4bec-b4ab-13c5f6b8c870",
     "showTitle": false,
     "tableResultSettingsMap": {},
     "title": ""
    }
   },
   "outputs": [],
   "source": [
    "from pyspark.sql.functions import  countDistinct, avg"
   ]
  },
  {
   "cell_type": "code",
   "execution_count": 0,
   "metadata": {
    "application/vnd.databricks.v1+cell": {
     "cellMetadata": {
      "byteLimit": 2048000,
      "rowLimit": 10000
     },
     "collapsed": true,
     "inputWidgets": {},
     "nuid": "189a73e1-76a8-4436-b862-9b3b6b5d9336",
     "showTitle": false,
     "tableResultSettingsMap": {},
     "title": ""
    }
   },
   "outputs": [],
   "source": [
    "supplier_service_count = supplier_df.groupBy('company_name').agg(\n",
    "countDistinct('business_type').alias('service_count')\n",
    ")\n",
    "#.agg(avg('service_count').alias('avg_service_count'))\n",
    "\n",
    "display(supplier_service_count)"
   ]
  },
  {
   "cell_type": "markdown",
   "metadata": {
    "application/vnd.databricks.v1+cell": {
     "cellMetadata": {},
     "inputWidgets": {},
     "nuid": "0bd8b798-c12e-45a6-98b9-df95545af681",
     "showTitle": false,
     "tableResultSettingsMap": {},
     "title": ""
    }
   },
   "source": [
    "Example 2: Identify top suppliers by the number of materials provided"
   ]
  },
  {
   "cell_type": "code",
   "execution_count": 0,
   "metadata": {
    "application/vnd.databricks.v1+cell": {
     "cellMetadata": {},
     "inputWidgets": {},
     "nuid": "28790a07-7b9c-4e71-a864-48ffa29ccfb2",
     "showTitle": false,
     "tableResultSettingsMap": {},
     "title": ""
    }
   },
   "outputs": [],
   "source": [
    "%sql\n",
    "select \n",
    "p.Product_type,s.Business_Type,s.Company_Name,\n",
    "sum(cast(Number_of_products_sold as int)) as num_of_prod\n",
    "from supplychains.purchaseorders po \n",
    "inner join supplychains.product  p on p.p_id =po.P_ID\n",
    "inner join supplychains.supplier s on s.S_ID = po.Supplier_Id\n",
    "--where business_type = 'Constrution materialsConstruction'\n",
    "group by p.Product_type,s.Company_Name,s.Business_Type\n",
    "order by p.Product_type,s.Business_Type,s.Company_Name"
   ]
  },
  {
   "cell_type": "markdown",
   "metadata": {
    "application/vnd.databricks.v1+cell": {
     "cellMetadata": {},
     "inputWidgets": {},
     "nuid": "f771cd1b-a224-455a-953f-207d8526e104",
     "showTitle": false,
     "tableResultSettingsMap": {},
     "title": ""
    }
   },
   "source": [
    "Example 3: Rank suppliers based on the total number of services provided"
   ]
  },
  {
   "cell_type": "code",
   "execution_count": 0,
   "metadata": {
    "application/vnd.databricks.v1+cell": {
     "cellMetadata": {
      "byteLimit": 2048000,
      "rowLimit": 10000
     },
     "inputWidgets": {},
     "nuid": "980ee38a-13ff-4c79-8f46-4cfc20e14b5e",
     "showTitle": false,
     "tableResultSettingsMap": {},
     "title": ""
    }
   },
   "outputs": [],
   "source": [
    "from pyspark.sql.window import Window\n",
    "from pyspark.sql.functions import rank, desc,countDistinct,cast,col,sum,avg,coalesce,lit\n"
   ]
  },
  {
   "cell_type": "code",
   "execution_count": 0,
   "metadata": {
    "application/vnd.databricks.v1+cell": {
     "cellMetadata": {
      "byteLimit": 2048000,
      "rowLimit": 10000
     },
     "collapsed": true,
     "inputWidgets": {},
     "nuid": "c8bb0118-b5bc-4132-991d-4b7f8db7d047",
     "showTitle": false,
     "tableResultSettingsMap": {},
     "title": ""
    }
   },
   "outputs": [],
   "source": [
    "\n",
    "windowSpec = Window.orderBy(desc(\"Service_Count\"))\n",
    "ranked_suppliers = supplier_df.groupBy(\"Company_Name\").agg(\n",
    "    countDistinct(\"Business_Type\").alias(\"Service_Count\")\n",
    ").withColumn(\"Rank\", rank().over(windowSpec))\n",
    "\n",
    "ranked_suppliers.show()"
   ]
  },
  {
   "cell_type": "code",
   "execution_count": 0,
   "metadata": {
    "application/vnd.databricks.v1+cell": {
     "cellMetadata": {
      "byteLimit": 2048000,
      "rowLimit": 10000
     },
     "collapsed": true,
     "inputWidgets": {},
     "nuid": "c6c5ef89-e280-4792-969d-2e929c054d32",
     "showTitle": false,
     "tableResultSettingsMap": {},
     "title": ""
    }
   },
   "outputs": [],
   "source": [
    "supplier_df.printSchema()"
   ]
  },
  {
   "cell_type": "code",
   "execution_count": 0,
   "metadata": {
    "application/vnd.databricks.v1+cell": {
     "cellMetadata": {
      "byteLimit": 2048000,
      "rowLimit": 10000
     },
     "inputWidgets": {},
     "nuid": "555bcae1-31dc-48a2-9c5d-a01a5ff9881c",
     "showTitle": false,
     "tableResultSettingsMap": {},
     "title": ""
    }
   },
   "outputs": [],
   "source": [
    "# Define a list of columns to handle non-numeric values and cast to double\n",
    "numeric_columns = [\"number_of_products_sold\", \"revenue_generated\", \"stock_levels\", \"lead_times\",\n",
    "                   \"order_quantities\", \"shipping_times\", \"shipping_costs\", \"Total_Cost\"]\n",
    "\n",
    "# Ensure all specified columns are cast to double and handle non-numeric values\n",
    "for column in numeric_columns:\n",
    "    purchase_orders_df = purchase_orders_df.withColumn(\n",
    "        column,\n",
    "        col(column).cast(\"double\")\n",
    "    )\n",
    "\n",
    "    # Filter out rows where the column is not numeric\n",
    "    purchase_orders_df = purchase_orders_df.filter(\n",
    "        col(column).isNotNull()\n",
    "    )"
   ]
  },
  {
   "cell_type": "code",
   "execution_count": 0,
   "metadata": {
    "application/vnd.databricks.v1+cell": {
     "cellMetadata": {
      "byteLimit": 2048000,
      "rowLimit": 10000
     },
     "collapsed": true,
     "inputWidgets": {},
     "nuid": "9e23f1b4-b98e-45a9-a066-a98bfd5ac4fb",
     "showTitle": false,
     "tableResultSettingsMap": {},
     "title": ""
    }
   },
   "outputs": [],
   "source": [
    "purchase_orders_df.printSchema()"
   ]
  },
  {
   "cell_type": "code",
   "execution_count": 0,
   "metadata": {
    "application/vnd.databricks.v1+cell": {
     "cellMetadata": {
      "byteLimit": 2048000,
      "rowLimit": 10000
     },
     "inputWidgets": {},
     "nuid": "7af83497-2f34-4dbb-81bb-5bd4baa4a7b2",
     "showTitle": false,
     "tableResultSettingsMap": {},
     "title": ""
    }
   },
   "outputs": [],
   "source": [
    "supplier_stats_df = purchase_orders_df.groupBy(\"supplier_id\").agg(\n",
    "    sum('number_of_products_sold').alias('Total_Sold'),\n",
    "    sum('revenue_generated').alias('Total_Revenue'),\n",
    "    avg('stock_levels').alias('Average_Stock'),\n",
    "    avg(\"lead_times\").alias(\"Avg_Lead_Times\"),\n",
    "    sum(\"order_quantities\").alias(\"Total_Order_Quantities\"),\n",
    "    avg(\"shipping_times\").alias(\"Avg_Shipping_Times\"),\n",
    "    countDistinct(\"shipping_carriers\").alias(\"Distinct_Shipping_Carriers\"),\n",
    "    avg(\"shipping_costs\").alias(\"Avg_Shipping_Costs\"),\n",
    "    sum(\"Total_Cost\").alias(\"Total_Cost\")\n",
    ")"
   ]
  },
  {
   "cell_type": "code",
   "execution_count": 0,
   "metadata": {
    "application/vnd.databricks.v1+cell": {
     "cellMetadata": {
      "byteLimit": 2048000,
      "rowLimit": 10000
     },
     "inputWidgets": {},
     "nuid": "17ebd989-7a08-478c-8f96-bf054309f306",
     "showTitle": false,
     "tableResultSettingsMap": {},
     "title": ""
    }
   },
   "outputs": [],
   "source": [
    "comprehensive_suppliers = supplier_df.join(\n",
    "    supplier_stats_df, \n",
    "    supplier_df['supplier_Id'] == supplier_stats_df[\"supplier_Id\"], \n",
    "    how=\"inner\"\n",
    ").drop(supplier_df['supplier_Id'])"
   ]
  },
  {
   "cell_type": "code",
   "execution_count": 0,
   "metadata": {
    "application/vnd.databricks.v1+cell": {
     "cellMetadata": {
      "byteLimit": 2048000,
      "rowLimit": 10000
     },
     "inputWidgets": {},
     "nuid": "5e07a12f-398e-4827-84dc-a80ebe76fd66",
     "showTitle": false,
     "tableResultSettingsMap": {},
     "title": ""
    }
   },
   "outputs": [],
   "source": [
    "comprehensive_suppliers.printSchema()"
   ]
  },
  {
   "cell_type": "code",
   "execution_count": 0,
   "metadata": {
    "application/vnd.databricks.v1+cell": {
     "cellMetadata": {
      "byteLimit": 2048000,
      "rowLimit": 10000
     },
     "inputWidgets": {},
     "nuid": "2842120f-7064-4f65-a83d-32e1dcb7c84c",
     "showTitle": false,
     "tableResultSettingsMap": {},
     "title": ""
    }
   },
   "outputs": [],
   "source": [
    "# Calculate the Recommendation Score based on specific columns\n",
    "comprehensive_suppliers = comprehensive_suppliers.withColumn(\n",
    "    \"Recommendation_Score\",\n",
    "    coalesce(col(\"Total_Sold\").cast(\"double\"), lit(0)) +\n",
    "    coalesce(col(\"Total_Revenue\").cast(\"double\"), lit(0)) +\n",
    "    coalesce(col(\"Average_Stock\").cast(\"double\"), lit(0)) + \n",
    "    coalesce(col(\"Avg_Lead_Times\").cast(\"double\"), lit(0)) +\n",
    "    coalesce(col(\"Total_Order_Quantities\").cast(\"double\"), lit(0)) + \n",
    "    coalesce(col(\"Avg_Shipping_Times\").cast(\"double\"), lit(0)) +    \n",
    "    coalesce(col(\"Avg_Shipping_Costs\").cast(\"double\"), lit(0)) + \n",
    "    coalesce(col(\"Total_Cost\").cast(\"double\"), lit(0)) +\n",
    "    coalesce(col(\"Negotiation_Score\").cast(\"double\"), lit(0)) +\n",
    "    coalesce(col(\"Defect_Quality\").cast(\"double\"), lit(0))\n",
    ")"
   ]
  },
  {
   "cell_type": "code",
   "execution_count": 0,
   "metadata": {
    "application/vnd.databricks.v1+cell": {
     "cellMetadata": {
      "byteLimit": 2048000,
      "rowLimit": 10000
     },
     "inputWidgets": {},
     "nuid": "96f6529e-966e-44e2-abe6-938dfb594a7b",
     "showTitle": false,
     "tableResultSettingsMap": {},
     "title": ""
    }
   },
   "outputs": [],
   "source": [
    "# Create a ranking based on the Recommendation Score\n",
    "windowSpec = Window.orderBy(desc(\"Recommendation_Score\"))\n",
    "comprehensive_suppliers = comprehensive_suppliers.withColumn(\n",
    "    \"Rank\", \n",
    "    rank().over(windowSpec)\n",
    ")\n",
    "display(comprehensive_suppliers)"
   ]
  },
  {
   "cell_type": "code",
   "execution_count": 0,
   "metadata": {
    "application/vnd.databricks.v1+cell": {
     "cellMetadata": {
      "byteLimit": 2048000,
      "rowLimit": 10000
     },
     "inputWidgets": {},
     "nuid": "611def12-982e-48ab-b3b0-1c49c099765c",
     "showTitle": false,
     "tableResultSettingsMap": {},
     "title": ""
    }
   },
   "outputs": [],
   "source": [
    "%python\n",
    "# Drop the existing table if it exists\n",
    "spark.sql(\"DROP TABLE IF EXISTS supplychain_catalog.gold.suppliers_recommendation\")\n",
    "\n",
    "# Write the DataFrame to the table\n",
    "comprehensive_suppliers.write.mode(\"overwrite\").saveAsTable(\"supplychain_catalog.gold.suppliers_recommendation\")"
   ]
  },
  {
   "cell_type": "code",
   "execution_count": 0,
   "metadata": {
    "application/vnd.databricks.v1+cell": {
     "cellMetadata": {
      "byteLimit": 2048000,
      "rowLimit": 10000
     },
     "inputWidgets": {},
     "nuid": "806db221-e89b-4882-a724-9df31b33af70",
     "showTitle": false,
     "tableResultSettingsMap": {},
     "title": ""
    }
   },
   "outputs": [],
   "source": [
    "# Register the DataFrame as a temporary SQL table\n",
    "comprehensive_suppliers.createOrReplaceTempView(\"comprehensive_suppliers_view\")"
   ]
  },
  {
   "cell_type": "markdown",
   "metadata": {
    "application/vnd.databricks.v1+cell": {
     "cellMetadata": {},
     "inputWidgets": {},
     "nuid": "02a14320-038d-4d76-94c8-669c13c47efa",
     "showTitle": false,
     "tableResultSettingsMap": {},
     "title": ""
    }
   },
   "source": [
    "#### Total Revenue by Supplier"
   ]
  },
  {
   "cell_type": "code",
   "execution_count": 0,
   "metadata": {
    "application/vnd.databricks.v1+cell": {
     "cellMetadata": {
      "byteLimit": 2048000,
      "implicitDf": true,
      "rowLimit": 10000
     },
     "inputWidgets": {},
     "nuid": "a485e2ab-8aeb-453f-8809-ec31b3f2bc97",
     "showTitle": false,
     "tableResultSettingsMap": {},
     "title": ""
    }
   },
   "outputs": [
    {
     "output_type": "display_data",
     "data": {
      "text/plain": [
       "Databricks visualization. Run in Databricks to view."
      ]
     },
     "metadata": {
      "application/vnd.databricks.v1.subcommand+json": {
       "baseErrorDetails": null,
       "bindings": {},
       "collapsed": false,
       "command": "%sql WITH q AS (select * from comprehensive_suppliers_view) SELECT `supplier_id`,`Total_Revenue`,`supplier_id` FROM q",
       "commandTitle": "Total Revenue by Supplier",
       "commandType": "auto",
       "commandVersion": 0,
       "commentThread": [],
       "commentsVisible": false,
       "contentSha256Hex": null,
       "customPlotOptions": {
        "redashChart": [
         {
          "key": "type",
          "value": "CHART"
         },
         {
          "key": "options",
          "value": {
           "alignYAxesAtZero": true,
           "coefficient": 1,
           "columnConfigurationMap": {
            "series": {
             "column": "supplier_id",
             "id": "column_ece68a2148"
            },
            "x": {
             "column": "supplier_id",
             "id": "column_ece68a2145"
            },
            "y": [
             {
              "column": "Total_Revenue",
              "id": "column_ece68a2147"
             }
            ]
           },
           "dateTimeFormat": "DD/MM/YYYY HH:mm",
           "direction": {
            "type": "counterclockwise"
           },
           "error_y": {
            "type": "data",
            "visible": true
           },
           "globalSeriesType": "column",
           "isAggregationOn": false,
           "legend": {
            "traceorder": "normal"
           },
           "missingValuesAsZero": true,
           "numberFormat": "0,0.[00000]",
           "percentFormat": "0[.]00%",
           "series": {
            "error_y": {
             "type": "data",
             "visible": true
            },
            "stacking": null
           },
           "seriesOptions": {
            "Total_Revenue": {
             "type": "column",
             "yAxis": 0
            }
           },
           "showDataLabels": false,
           "sizemode": "diameter",
           "sortX": true,
           "sortY": true,
           "swappedAxes": false,
           "textFormat": "",
           "useAggregationsUi": true,
           "valuesOptions": {},
           "version": 2,
           "xAxis": {
            "labels": {
             "enabled": true
            },
            "type": "-"
           },
           "yAxis": [
            {
             "type": "-"
            },
            {
             "opposite": true,
             "type": "-"
            }
           ]
          }
         }
        ]
       },
       "datasetPreviewNameToCmdIdMap": {},
       "diffDeletes": [],
       "diffInserts": [],
       "displayType": "redashChart",
       "error": null,
       "errorDetails": null,
       "errorSummary": null,
       "errorTraceType": null,
       "finishTime": 0,
       "globalVars": {},
       "guid": "",
       "height": "auto",
       "hideCommandCode": false,
       "hideCommandResult": false,
       "iPythonMetadata": null,
       "inputWidgets": {},
       "isLockedInExamMode": false,
       "latestUser": "a user",
       "latestUserId": null,
       "listResultMetadata": null,
       "metadata": {},
       "nuid": "b145b7ab-3b61-499f-a002-70b7ad95c2fc",
       "origId": 0,
       "parentHierarchy": [],
       "pivotAggregation": null,
       "pivotColumns": null,
       "position": 1.0,
       "resultDbfsErrorMessage": null,
       "resultDbfsStatus": "INLINED_IN_TREE",
       "results": null,
       "showCommandTitle": false,
       "startTime": 0,
       "state": "input",
       "streamStates": {},
       "subcommandOptions": {
        "queryPlan": {
         "selects": [
          {
           "column": "supplier_id",
           "type": "column"
          },
          {
           "column": "Total_Revenue",
           "type": "column"
          },
          {
           "column": "supplier_id",
           "type": "column"
          }
         ]
        }
       },
       "submitTime": 0,
       "subtype": "tableResultSubCmd.visualization",
       "tableResultIndex": 0,
       "tableResultSettingsMap": {},
       "useConsistentColors": false,
       "version": "CommandV1",
       "width": "auto",
       "workflows": null,
       "xColumns": null,
       "yColumns": null
      }
     },
     "output_type": "display_data"
    },
    {
     "output_type": "display_data",
     "data": {
      "text/plain": [
       "Databricks visualization. Run in Databricks to view."
      ]
     },
     "metadata": {
      "application/vnd.databricks.v1.subcommand+json": {
       "baseErrorDetails": null,
       "bindings": {},
       "collapsed": false,
       "command": "%sql WITH q AS (select * from comprehensive_suppliers_view) SELECT `supplier_id`,`Negotiation_Score`,`supplier_id` FROM q",
       "commandTitle": "Suppliers Based on Recommendation Score",
       "commandType": "auto",
       "commandVersion": 0,
       "commentThread": [],
       "commentsVisible": false,
       "contentSha256Hex": null,
       "customPlotOptions": {
        "redashChart": [
         {
          "key": "type",
          "value": "CHART"
         },
         {
          "key": "options",
          "value": {
           "alignYAxesAtZero": true,
           "coefficient": 1,
           "columnConfigurationMap": {
            "series": {
             "column": "supplier_id",
             "id": "column_ece68a2162"
            },
            "x": {
             "column": "supplier_id",
             "id": "column_ece68a2159"
            },
            "y": [
             {
              "column": "Negotiation_Score",
              "id": "column_ece68a2161"
             }
            ]
           },
           "dateTimeFormat": "DD/MM/YYYY HH:mm",
           "direction": {
            "type": "counterclockwise"
           },
           "error_y": {
            "type": "data",
            "visible": true
           },
           "globalSeriesType": "column",
           "isAggregationOn": false,
           "legend": {
            "traceorder": "normal"
           },
           "missingValuesAsZero": true,
           "numberFormat": "0,0.[00000]",
           "percentFormat": "0[.]00%",
           "series": {
            "error_y": {
             "type": "data",
             "visible": true
            },
            "stacking": null
           },
           "seriesOptions": {
            "Negotiation_Score": {
             "type": "column",
             "yAxis": 0
            }
           },
           "showDataLabels": false,
           "sizemode": "diameter",
           "sortX": true,
           "sortY": true,
           "swappedAxes": false,
           "textFormat": "",
           "useAggregationsUi": true,
           "valuesOptions": {},
           "version": 2,
           "xAxis": {
            "labels": {
             "enabled": true
            },
            "type": "-"
           },
           "yAxis": [
            {
             "type": "-"
            },
            {
             "opposite": true,
             "type": "-"
            }
           ]
          }
         }
        ]
       },
       "datasetPreviewNameToCmdIdMap": {},
       "diffDeletes": [],
       "diffInserts": [],
       "displayType": "redashChart",
       "error": null,
       "errorDetails": null,
       "errorSummary": null,
       "errorTraceType": null,
       "finishTime": 0,
       "globalVars": {},
       "guid": "",
       "height": "auto",
       "hideCommandCode": false,
       "hideCommandResult": false,
       "iPythonMetadata": null,
       "inputWidgets": {},
       "isLockedInExamMode": false,
       "latestUser": "a user",
       "latestUserId": null,
       "listResultMetadata": null,
       "metadata": {},
       "nuid": "e50c9725-ba7c-443f-b1a5-f9a2320e0fbd",
       "origId": 0,
       "parentHierarchy": [],
       "pivotAggregation": null,
       "pivotColumns": null,
       "position": 14.0,
       "resultDbfsErrorMessage": null,
       "resultDbfsStatus": "INLINED_IN_TREE",
       "results": null,
       "showCommandTitle": false,
       "startTime": 0,
       "state": "input",
       "streamStates": {},
       "subcommandOptions": {
        "queryPlan": {
         "selects": [
          {
           "column": "supplier_id",
           "type": "column"
          },
          {
           "column": "Negotiation_Score",
           "type": "column"
          },
          {
           "column": "supplier_id",
           "type": "column"
          }
         ]
        }
       },
       "submitTime": 0,
       "subtype": "tableResultSubCmd.visualization",
       "tableResultIndex": 0,
       "tableResultSettingsMap": {},
       "useConsistentColors": false,
       "version": "CommandV1",
       "width": "auto",
       "workflows": null,
       "xColumns": null,
       "yColumns": null
      }
     },
     "output_type": "display_data"
    }
   ],
   "source": [
    "%sql\n",
    "select * from comprehensive_suppliers_view"
   ]
  },
  {
   "cell_type": "markdown",
   "metadata": {
    "application/vnd.databricks.v1+cell": {
     "cellMetadata": {},
     "inputWidgets": {},
     "nuid": "0ae05840-7a3c-4cf1-9c1c-1c4b55bcc3aa",
     "showTitle": false,
     "tableResultSettingsMap": {},
     "title": ""
    }
   },
   "source": [
    "#### Suppliers Based on Recommendation Score"
   ]
  },
  {
   "cell_type": "code",
   "execution_count": 0,
   "metadata": {
    "application/vnd.databricks.v1+cell": {
     "cellMetadata": {
      "byteLimit": 2048000,
      "implicitDf": true,
      "rowLimit": 10000
     },
     "inputWidgets": {},
     "nuid": "b6143886-c88e-4815-a25c-003ce6e6ee0f",
     "showTitle": false,
     "tableResultSettingsMap": {},
     "title": ""
    }
   },
   "outputs": [],
   "source": [
    "%sql\n",
    "select * from comprehensive_suppliers_view"
   ]
  }
 ],
 "metadata": {
  "application/vnd.databricks.v1+notebook": {
   "computePreferences": null,
   "dashboards": [],
   "environmentMetadata": {
    "base_environment": "",
    "client": "1"
   },
   "language": "python",
   "notebookMetadata": {
    "mostRecentlyExecutedCommandWithImplicitDF": {
     "commandId": 5036457477493004,
     "dataframes": [
      "_sqldf"
     ]
    },
    "pythonIndentUnit": 4
   },
   "notebookName": "gold",
   "widgets": {}
  },
  "language_info": {
   "name": "python"
  }
 },
 "nbformat": 4,
 "nbformat_minor": 0
}
